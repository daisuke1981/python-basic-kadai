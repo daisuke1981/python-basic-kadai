{
  "nbformat": 4,
  "nbformat_minor": 0,
  "metadata": {
    "colab": {
      "provenance": []
    },
    "kernelspec": {
      "name": "python3",
      "display_name": "Python 3"
    },
    "language_info": {
      "name": "python"
    }
  },
  "cells": [
    {
      "cell_type": "code",
      "execution_count": null,
      "metadata": {
        "colab": {
          "base_uri": "https://localhost:8080/"
        },
        "id": "Ch3OPwPX2a21",
        "outputId": "3afc1d42-c64f-47cc-d211-2dba20eca4c9"
      },
      "outputs": [
        {
          "output_type": "stream",
          "name": "stdout",
          "text": [
            "75.0 cm²\n"
          ]
        }
      ],
      "source": [
        "top_base = 10\n",
        "bottom_base = 20\n",
        "height = 5\n",
        "area = 0\n",
        "\n",
        "area = (top_base + bottom_base) * height / 2\n",
        "print(f\"{area} cm²\")"
      ]
    }
  ]
}