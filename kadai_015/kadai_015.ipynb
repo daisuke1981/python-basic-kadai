{
  "nbformat": 4,
  "nbformat_minor": 0,
  "metadata": {
    "colab": {
      "provenance": []
    },
    "kernelspec": {
      "name": "python3",
      "display_name": "Python 3"
    },
    "language_info": {
      "name": "python"
    }
  },
  "cells": [
    {
      "cell_type": "code",
      "execution_count": 37,
      "metadata": {
        "colab": {
          "base_uri": "https://localhost:8080/"
        },
        "id": "vaF6w0KdBdsj",
        "outputId": "5ecb9f1d-bee6-4e3b-a9d4-e39a440f5791"
      },
      "outputs": [
        {
          "output_type": "stream",
          "name": "stdout",
          "text": [
            "名前は熊谷大介年齢は43\n"
          ]
        }
      ],
      "source": [
        "class Human:\n",
        "    def __init__(self, name, age):\n",
        "        self.name = name\n",
        "        self.age = age\n",
        "\n",
        "    def printinfo(self):\n",
        "        print(f\"名前は{self.name}年齢は{self.age}\")\n",
        "\n",
        "\n",
        "human = Human(\"熊谷大介\", 43)\n",
        "human.printinfo()\n"
      ]
    }
  ]
}