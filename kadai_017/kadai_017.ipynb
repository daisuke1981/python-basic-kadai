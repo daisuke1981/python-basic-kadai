{
  "nbformat": 4,
  "nbformat_minor": 0,
  "metadata": {
    "colab": {
      "provenance": []
    },
    "kernelspec": {
      "name": "python3",
      "display_name": "Python 3"
    },
    "language_info": {
      "name": "python"
    }
  },
  "cells": [
    {
      "cell_type": "code",
      "execution_count": 4,
      "metadata": {
        "colab": {
          "base_uri": "https://localhost:8080/"
        },
        "id": "-suOH1X-MwLT",
        "outputId": "21175e90-27ea-443e-ff15-1b0ff74631a8"
      },
      "outputs": [
        {
          "output_type": "stream",
          "name": "stdout",
          "text": [
            "だいすけは20以上で大人です。\n",
            "いったは大人ではありません。\n",
            "にちやは大人ではありません。\n",
            "なおみは20以上で大人です。\n"
          ]
        }
      ],
      "source": [
        "class Human:\n",
        "    def __init__(self, name, age):\n",
        "        self.name = name\n",
        "        self.age = age\n",
        "\n",
        "    def check_adult(self):\n",
        "        if self.age >= 20:\n",
        "            print(f\"{self.name}は20以上で大人です。\")\n",
        "        else:\n",
        "            print(f\"{self.name}は大人ではありません。\")\n",
        "\n",
        "humans = [Human(\"だいすけ\", 43),Human(\"いった\", 13),Human(\"にちや\", 7),Human(\"なおみ\", 43),]\n",
        "\n",
        "for human in humans:\n",
        "    human.check_adult()"
      ]
    }
  ]
}