{
  "nbformat": 4,
  "nbformat_minor": 0,
  "metadata": {
    "colab": {
      "provenance": []
    },
    "kernelspec": {
      "name": "python3",
      "display_name": "Python 3"
    },
    "language_info": {
      "name": "python"
    }
  },
  "cells": [
    {
      "cell_type": "code",
      "execution_count": 2,
      "metadata": {
        "colab": {
          "base_uri": "https://localhost:8080/"
        },
        "id": "ytLIYvLx5BjT",
        "outputId": "ac34bc83-ce6f-4514-cf24-6e34a897d8a6"
      },
      "outputs": [
        {
          "output_type": "stream",
          "name": "stdout",
          "text": [
            "水曜日は晴れです\n",
            "雨\n"
          ]
        }
      ],
      "source": [
        "array = [\"月曜日は晴れです\", \"火曜日は雨です\", \"水曜日は晴れです\", \"木曜日は晴れです\", \"金曜日は曇りです\", \"金曜日は曇りです\", \"日曜日は雷雨です\"]\n",
        "print(array[2])\n",
        "dictionary = {\"mon\": \"晴れ\",\"wed\": \"雨\",\"thu\" :\"晴れ\",\"fri\":\t\"曇り\",\"sat\":\t\"曇りのち雨\",\"sun\":\t\"雷雨\"}\n",
        "print(dictionary[\"wed\"])"
      ]
    }
  ]
}