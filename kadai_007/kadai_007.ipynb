{
  "nbformat": 4,
  "nbformat_minor": 0,
  "metadata": {
    "colab": {
      "provenance": []
    },
    "kernelspec": {
      "name": "python3",
      "display_name": "Python 3"
    },
    "language_info": {
      "name": "python"
    }
  },
  "cells": [
    {
      "cell_type": "code",
      "execution_count": 1,
      "metadata": {
        "id": "ytLIYvLx5BjT",
        "outputId": "0cd151fa-cb14-4625-dab0-09dd89afce62",
        "colab": {
          "base_uri": "https://localhost:8080/"
        }
      },
      "outputs": [
        {
          "output_type": "stream",
          "name": "stdout",
          "text": [
            "水曜日は晴れです\n",
            "晴れ\n"
          ]
        }
      ],
      "source": [
        "array = [\"月曜日は晴れです\", \"火曜日は雨です\", \"水曜日は晴れです\", \"木曜日は晴れです\", \"金曜日は曇りです\", \"金曜日は曇りです\", \"日曜日は雷雨です\"]\n",
        "print(array[2])\n",
        "dictionary = {\"mon\": \"晴れ\",\"wed\": \"雨\",\"thu\" :\"晴れ\",\"fri\":\t\"曇り\",\"sat\":\t\"曇りのち雨\",\"sun\":\t\"雷雨\"}\n",
        "print(dictionary[\"thu\"])"
      ]
    }
  ]
}