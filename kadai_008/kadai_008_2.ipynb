{
  "nbformat": 4,
  "nbformat_minor": 0,
  "metadata": {
    "colab": {
      "provenance": []
    },
    "kernelspec": {
      "name": "python3",
      "display_name": "Python 3"
    },
    "language_info": {
      "name": "python"
    }
  },
  "cells": [
    {
      "cell_type": "code",
      "execution_count": 9,
      "metadata": {
        "colab": {
          "base_uri": "https://localhost:8080/"
        },
        "id": "gZmvg3sP8k-_",
        "outputId": "4415a16a-041e-4b1e-ef1c-9dcf2d1a452d"
      },
      "outputs": [
        {
          "output_type": "stream",
          "name": "stdout",
          "text": [
            "11はどれにも該当しない。\n"
          ]
        }
      ],
      "source": [
        "var = 11\n",
        "if var % 3 == 0 and var % 5 == 0 :\n",
        "  print(\"FizzBuzz\")\n",
        "elif var % 3 == 0:\n",
        "  print(\"Fizz\")\n",
        "elif var % 5 == 0:\n",
        "  print(\"Buzz\")\n",
        "else:\n",
        "  print( str(var) + \"はどれにも該当しない。\" )"
      ]
    }
  ]
}