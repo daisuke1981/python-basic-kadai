{
  "nbformat": 4,
  "nbformat_minor": 0,
  "metadata": {
    "colab": {
      "provenance": []
    },
    "kernelspec": {
      "name": "python3",
      "display_name": "Python 3"
    },
    "language_info": {
      "name": "python"
    }
  },
  "cells": [
    {
      "cell_type": "code",
      "execution_count": null,
      "metadata": {
        "id": "Osz0n4uZJYtE"
      },
      "outputs": [],
      "source": []
    },
    {
      "cell_type": "code",
      "source": [
        "!pip install openpyxl\n",
        "\n",
        "import pandas as pd\n",
        "from openpyxl import load_workbook\n",
        "from openpyxl.styles import PatternFill\n",
        "\n",
        "file_names = [\"/content/2022_年間売上表.xlsx\", \"/content/2023_年間売上表.xlsx\"]\n",
        "data_frames = []\n",
        "\n",
        "for file_name in file_names:\n",
        "    df = pd.read_excel(file_name, sheet_name=\"Sheet1\")\n",
        "    data_frames.append(df)\n",
        "\n",
        "combined_data = pd.concat(data_frames, ignore_index=True)\n",
        "grouped_data = combined_data.groupby([\"商品\", \"売上年\"], as_index=False).sum()\n",
        "\n",
        "output_file = \"/content/売上集計表.xlsx\"\n",
        "grouped_data.to_excel(output_file, index=False, sheet_name=\"合計金額\")\n",
        "\n",
        "wb = load_workbook(output_file)\n",
        "ws = wb.active\n",
        "\n",
        "header_fill = PatternFill(start_color=\"F2F2F2\", end_color=\"F2F2F2\", fill_type=\"solid\")\n",
        "for cell in ws[1]:\n",
        "    cell.fill = header_fill\n",
        "\n",
        "wb.save(output_file)"
      ],
      "metadata": {
        "colab": {
          "base_uri": "https://localhost:8080/"
        },
        "id": "zXmwqOwWceQf",
        "outputId": "8c522cfc-48cd-45e7-c3ad-3804f7930825"
      },
      "execution_count": 3,
      "outputs": [
        {
          "output_type": "stream",
          "name": "stdout",
          "text": [
            "Requirement already satisfied: openpyxl in /usr/local/lib/python3.11/dist-packages (3.1.5)\n",
            "Requirement already satisfied: et-xmlfile in /usr/local/lib/python3.11/dist-packages (from openpyxl) (2.0.0)\n"
          ]
        }
      ]
    },
    {
      "cell_type": "markdown",
      "source": [],
      "metadata": {
        "id": "bWSvhdpGH7K4"
      }
    }
  ]
}