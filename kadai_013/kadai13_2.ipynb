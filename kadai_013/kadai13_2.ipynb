{
  "nbformat": 4,
  "nbformat_minor": 0,
  "metadata": {
    "colab": {
      "provenance": []
    },
    "kernelspec": {
      "name": "python3",
      "display_name": "Python 3"
    },
    "language_info": {
      "name": "python"
    }
  },
  "cells": [
    {
      "cell_type": "code",
      "execution_count": 2,
      "metadata": {
        "colab": {
          "base_uri": "https://localhost:8080/"
        },
        "id": "4CmQFVXJU1Mk",
        "outputId": "e5a7f4d8-074e-45fc-c431-4effa17b96b4"
      },
      "outputs": [
        {
          "output_type": "stream",
          "name": "stdout",
          "text": [
            "1320.0円\n"
          ]
        }
      ],
      "source": [
        "def add_tax(price, tax):\n",
        "    tax = tax + 1\n",
        "    total = price * tax\n",
        "\n",
        "    return total\n",
        "\n",
        "total = add_tax(1200, 0.1)\n",
        "print(f\"{total}円\")"
      ]
    }
  ]
}