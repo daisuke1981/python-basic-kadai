{
  "nbformat": 4,
  "nbformat_minor": 0,
  "metadata": {
    "colab": {
      "provenance": []
    },
    "kernelspec": {
      "name": "python3",
      "display_name": "Python 3"
    },
    "language_info": {
      "name": "python"
    }
  },
  "cells": [
    {
      "cell_type": "code",
      "execution_count": 2,
      "metadata": {
        "colab": {
          "base_uri": "https://localhost:8080/"
        },
        "id": "4CmQFVXJU1Mk",
        "outputId": "24596911-ba60-483b-dea9-1b3f2463721c"
      },
      "outputs": [
        {
          "output_type": "stream",
          "name": "stdout",
          "text": [
            "1320.0円\n"
          ]
        }
      ],
      "source": [
        "def add_tax(price, tax):\n",
        "    total = price * tax\n",
        "    return total\n",
        "\n",
        "total = add_tax(1200, 1.1)\n",
        "print(f\"{total}円\")"
      ]
    }
  ]
}