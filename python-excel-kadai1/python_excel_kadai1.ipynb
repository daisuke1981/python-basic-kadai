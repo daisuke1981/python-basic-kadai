{
  "nbformat": 4,
  "nbformat_minor": 0,
  "metadata": {
    "colab": {
      "provenance": []
    },
    "kernelspec": {
      "name": "python3",
      "display_name": "Python 3"
    },
    "language_info": {
      "name": "python"
    }
  },
  "cells": [
    {
      "cell_type": "code",
      "execution_count": 1,
      "metadata": {
        "colab": {
          "base_uri": "https://localhost:8080/"
        },
        "id": "wRWqKekkS7Bb",
        "outputId": "de5b4bfd-3b53-46af-f601-93141653dc84"
      },
      "outputs": [
        {
          "output_type": "stream",
          "name": "stdout",
          "text": [
            "請求書_20250203.xlsx を作成しました。\n"
          ]
        }
      ],
      "source": [
        "from openpyxl import Workbook\n",
        "from datetime import datetime\n",
        "\n",
        "# 本日の日付を取得\n",
        "today = datetime.today().strftime('%Y%m%d')\n",
        "today_slash = datetime.today().strftime('%Y/%m/%d')\n",
        "\n",
        "# Excelファイル名\n",
        "filename = f\"請求書_{today}.xlsx\"\n",
        "\n",
        "# ワークブック作成\n",
        "wb = Workbook()\n",
        "ws = wb.active\n",
        "ws.title = \"請求書\"\n",
        "\n",
        "# セルに値を設定\n",
        "ws[\"B2\"] = \"請求書\"\n",
        "ws[\"B4\"] = \"株式会社ABC\"\n",
        "ws[\"B5\"] = \"〒101-0022 東京都千代田区神田練塀町300\"\n",
        "ws[\"B6\"] = \"TEL:03-1234-5678 FAX:03-1234-5678\"\n",
        "ws[\"B7\"] = \"担当者名:鈴木一郎 様\"\n",
        "\n",
        "ws[\"F4\"] = \"No.\"\n",
        "ws[\"F5\"] = \"日付\"\n",
        "ws[\"G4\"] = \"0001\"\n",
        "ws[\"G5\"] = today_slash\n",
        "\n",
        "ws[\"B10\"] = \"商品名\"\n",
        "ws[\"B11\"] = \"商品A\"\n",
        "ws[\"B12\"] = \"商品B\"\n",
        "\n",
        "ws[\"C10\"] = \"数量\"\n",
        "ws[\"C11\"] = 2\n",
        "ws[\"C12\"] = 1\n",
        "\n",
        "ws[\"D10\"] = \"単価\"\n",
        "ws[\"D11\"] = 10000\n",
        "ws[\"D12\"] = 15000\n",
        "\n",
        "ws[\"E10\"] = \"金額\"\n",
        "ws[\"E11\"] = \"=C11*D11\"\n",
        "ws[\"E12\"] = \"=C12*D12\"\n",
        "ws[\"E13\"] = \"=E11+E12\"\n",
        "\n",
        "ws[\"B15\"] = \"合計\"\n",
        "ws[\"B16\"] = \"消費税\"\n",
        "ws[\"B17\"] = \"税込み合計\"\n",
        "\n",
        "ws[\"E15\"] = \"=E13\"\n",
        "ws[\"E16\"] = \"=E13*0.1\"\n",
        "ws[\"E17\"] = \"=E15+E16\"\n",
        "\n",
        "# Excelファイルを保存\n",
        "wb.save(filename)\n",
        "\n",
        "print(f\"{filename} を作成しました。\")"
      ]
    }
  ]
}